{
 "cells": [
  {
   "cell_type": "markdown",
   "id": "bc31ae1e",
   "metadata": {},
   "source": [
    "# Question 1\n",
    "What data type is each of the following (evaluate where necessary)?"
   ]
  },
  {
   "cell_type": "markdown",
   "id": "0b2305e8",
   "metadata": {},
   "source": [
    "| Expression | Data Type | Value |\n",
    "| ---------- | --------- | ----- |\n",
    "| `5` | Integer | 5 |\n",
    "| `5.0` | Float | 5.0 |\n",
    "| `5 > 1` | Boolean | True |\n",
    "| `'5'` | String | '5' |\n",
    "| `5 * 2` | Integer | 10 |\n",
    "| `'5' * 2` | String | '55' |\n",
    "| `'5' + '2'` | String | '52' |\n",
    "| `5 / 2` | Float | 2.5 |\n",
    "| `{5, 2, 1}` | Set | {1, 2, 5} |\n",
    "| `5 == 3` | Boolean | False |\n",
    "| `Pi (the number)` | Float | 3.14159 |\n"
   ]
  },
  {
   "cell_type": "markdown",
   "id": "7220fbed",
   "metadata": {},
   "source": [
    "# Question 2\n",
    "**Write (and evaluate) python expressions that answer these questions:"
   ]
  },
  {
   "cell_type": "markdown",
   "id": "e32a2f20",
   "metadata": {},
   "source": [
    "a. How many letters are there in 'Supercalifragilisticexpialidocious'?"
   ]
  },
  {
   "cell_type": "code",
   "execution_count": 1,
   "id": "b8a709c5",
   "metadata": {},
   "outputs": [
    {
     "data": {
      "text/plain": [
       "34"
      ]
     },
     "execution_count": 1,
     "metadata": {},
     "output_type": "execute_result"
    }
   ],
   "source": [
    "len('Supercalifragilisticexpialidocious')"
   ]
  },
  {
   "cell_type": "markdown",
   "id": "6efe4863",
   "metadata": {},
   "source": [
    "b. Does 'Supercalifragilisticexpialidocious' contain 'ice' as a substring?"
   ]
  },
  {
   "cell_type": "code",
   "execution_count": 2,
   "id": "654eac46",
   "metadata": {},
   "outputs": [
    {
     "data": {
      "text/plain": [
       "True"
      ]
     },
     "execution_count": 2,
     "metadata": {},
     "output_type": "execute_result"
    }
   ],
   "source": [
    "'ice' in 'Supercalifragilisticexpialidocious'"
   ]
  },
  {
   "cell_type": "markdown",
   "id": "12bee9a1",
   "metadata": {},
   "source": [
    "c. Which of the following words is the longest:\n",
    "Supercalifragilisticexpialidocious, Honorificabilitudinitatibus, or Bababadalgharaghtakamminarronnkonn?"
   ]
  },
  {
   "cell_type": "code",
   "execution_count": 2,
   "id": "16ac918f",
   "metadata": {},
   "outputs": [
    {
     "name": "stdout",
     "output_type": "stream",
     "text": [
      "The longest words among the given words are: Supercalifragilisticexpialidocious, Bababadalgharaghtakamminarronnkonn\n"
     ]
    }
   ],
   "source": [
    "def find_longest_words(word_list):\n",
    "    # Find the maximum length of the words\n",
    "    max_length = max(len(word) for word in word_list)\n",
    "    # Create a list of longest words\n",
    "    longest_words = [word for word in word_list if len(word) == max_length]\n",
    "    return longest_words\n",
    "\n",
    "# List of words to compare\n",
    "words = [\"Supercalifragilisticexpialidocious\", \"Honorificabilitudinitatibus\", \"Bababadalgharaghtakamminarronnkonn\"]\n",
    "\n",
    "# Find the longest words\n",
    "longest_words = find_longest_words(words)\n",
    "\n",
    "# Print the longest words\n",
    "print(f'The longest words among the given words are: {\", \".join(longest_words)}')\n",
    "\n"
   ]
  },
  {
   "cell_type": "markdown",
   "id": "d787d650",
   "metadata": {},
   "source": [
    "d. Which composer comes first in the dictionary: 'Berlioz', 'Borodin', 'Brian',\n",
    "'Bartok', 'Bellini', 'Buxtehude', 'Bernstein'. Which one comes last?"
   ]
  },
  {
   "cell_type": "code",
   "execution_count": 4,
   "id": "6bec0c25",
   "metadata": {},
   "outputs": [
    {
     "data": {
      "text/plain": [
       "('Bartok', 'Buxtehude')"
      ]
     },
     "execution_count": 4,
     "metadata": {},
     "output_type": "execute_result"
    }
   ],
   "source": [
    "composers = ['Berlioz', 'Borodin', 'Brian', 'Bartok', 'Bellini', 'Buxtehude', 'Bernstein']\n",
    "first_composer = min(composers)\n",
    "last_composer = max(composers)\n",
    "first_composer, last_composer"
   ]
  },
  {
   "cell_type": "markdown",
   "id": "0e72377f",
   "metadata": {},
   "source": [
    "# Question 3\n",
    "\n",
    "Implement function triangleArea(a,b,c) that takes as input the lengths of the 3\n",
    "sides of a triangle and returns the area of the triangle. By Heron's formula, the area\n",
    "of a triangle with side lengths a, b, and c is\n",
    "s(s - a)(s -b)(s -c), where s = (a +b + c) /2.\n"
   ]
  },
  {
   "cell_type": "code",
   "execution_count": 5,
   "id": "b957553b",
   "metadata": {},
   "outputs": [
    {
     "name": "stdout",
     "output_type": "stream",
     "text": [
      "Enter the length of side a: 3\n",
      "Enter the length of side b: 4\n",
      "Enter the length of side c: 5\n",
      "6.0\n"
     ]
    }
   ],
   "source": [
    "import math\n",
    "\n",
    "def triangleArea(a, b, c):\n",
    "    s = (a + b + c) / 2\n",
    "    return math.sqrt(s * (s - a) * (s - b) * (s - c))\n",
    "\n",
    "# Take input from user\n",
    "a = float(input(\"Enter the length of side a: \"))\n",
    "b = float(input(\"Enter the length of side b: \"))\n",
    "c = float(input(\"Enter the length of side c: \"))\n",
    "\n",
    "# Calculate and print the area\n",
    "print(triangleArea(a, b, c))\n"
   ]
  },
  {
   "cell_type": "markdown",
   "id": "2b932184",
   "metadata": {},
   "source": [
    "# Question 4\n",
    "\n",
    "Write a program in python to separate odd and even integers in separate arrays. Go\n",
    "to the editor\n",
    "Test Data :\n",
    "Input the number of elements to be stored in the array :5\n",
    "Input 5 elements in the array :\n",
    "element - 0 : 25\n",
    "element - 1 : 47\n",
    "element - 2 : 42\n",
    "element - 3 : 56\n",
    "element - 4 : 32\n",
    "Expected Output:\n",
    "The Even elements are:\n",
    "42 56 32\n",
    "The Odd elements are :\n",
    "25 47"
   ]
  },
  {
   "cell_type": "code",
   "execution_count": 6,
   "id": "fbb3202a",
   "metadata": {},
   "outputs": [
    {
     "name": "stdout",
     "output_type": "stream",
     "text": [
      "Input the number of elements to be stored in the array: 4\n",
      "element - 0 : 23\n",
      "element - 1 : 12\n",
      "element - 2 : 3\n",
      "element - 3 : 2\n",
      "The Even elements are:\n",
      "12 2\n",
      "The Odd elements are:\n",
      "23 3\n"
     ]
    }
   ],
   "source": [
    "# Input the number of elements to be stored in the array\n",
    "n = int(input(\"Input the number of elements to be stored in the array: \"))\n",
    "\n",
    "# Initialize empty array\n",
    "numbers = []\n",
    "\n",
    "# Input elements in the array\n",
    "for i in range(n):\n",
    "    num = int(input(f\"element - {i} : \"))\n",
    "    numbers.append(num)\n",
    "\n",
    "# Separate odd and even integers into different arrays\n",
    "odd_numbers = [num for num in numbers if num % 2 != 0]\n",
    "even_numbers = [num for num in numbers if num % 2 == 0]\n",
    "\n",
    "# Print the results\n",
    "print(\"The Even elements are:\")\n",
    "print(' '.join(map(str, even_numbers)))\n",
    "print(\"The Odd elements are:\")\n",
    "print(' '.join(map(str, odd_numbers)))\n"
   ]
  },
  {
   "cell_type": "markdown",
   "id": "7cef9373",
   "metadata": {},
   "source": [
    "# Question 5"
   ]
  },
  {
   "cell_type": "markdown",
   "id": "1f461723",
   "metadata": {},
   "source": [
    "a. Write a function inside(x,y,x1,y1,x2,y2) that returns True or False depending on whether the point (x,y) lies in the rectangle with lower left corner (x1,y1) and upper right corner (x2,y2)."
   ]
  },
  {
   "cell_type": "code",
   "execution_count": 13,
   "id": "7a5fc9a3",
   "metadata": {},
   "outputs": [
    {
     "name": "stdout",
     "output_type": "stream",
     "text": [
      "True\n",
      "False\n"
     ]
    }
   ],
   "source": [
    "def inside(x, y, x1, y1, x2, y2):\n",
    "    if (x > x1 and x < x2) and (y > y1 and y < y2):\n",
    "        return True\n",
    "    else:\n",
    "        return False\n",
    "    \n",
    "print(inside(1, 1, 0, 0, 2, 3))\n",
    "print(inside(-1, -1, 0, 0, 2, 3))"
   ]
  },
  {
   "cell_type": "markdown",
   "id": "d1afbc31",
   "metadata": {},
   "source": [
    "b. Use function inside() from part a. to write an expression that tests whether the point (1,1) lies in both of the following rectangles: one with lower left corner (0.3, 0.5) and upper right corner (1.1, 0.7) and the other with lower left corner (0.5, 0.2) and upper right corner (1.1, 2)."
   ]
  },
  {
   "cell_type": "code",
   "execution_count": 8,
   "id": "c51d93b5",
   "metadata": {},
   "outputs": [
    {
     "name": "stdout",
     "output_type": "stream",
     "text": [
      "False\n"
     ]
    }
   ],
   "source": [
    "# Define the inside function\n",
    "def inside(x, y, x1, y1, x2, y2):\n",
    "    if (x > x1 and x < x2) and (y > y1 and y < y2):\n",
    "        return True\n",
    "    else:\n",
    "        return False\n",
    "\n",
    "# Test whether the point (1,1) lies in both rectangles\n",
    "print(inside(1, 1, 0.3, 0.5, 1.1, 0.7) and inside(1, 1, 0.5, 0.2, 1.1, 2))\n"
   ]
  },
  {
   "cell_type": "markdown",
   "id": "1822ff0f",
   "metadata": {},
   "source": [
    "# Question 6"
   ]
  },
  {
   "cell_type": "markdown",
   "id": "24ccc879",
   "metadata": {},
   "source": [
    "You can turn a word into pig-Latin using the following two rules (simplified):\n",
    "• If the word starts with a consonant, move that letter to the end and append 'ay'. For example, 'happy' becomes 'appyhay' and 'pencil' becomes 'encilpay'.\n",
    "• If the word starts with a vowel, simply append 'way' to the end of the word. For example, 'enter' becomes 'enterway' and 'other' becomes 'otherway' . For our purposes, there are 5 vowels: a, e, i, o, u (so we count y as a consonant).\n",
    "\n",
    "**Write a function pig() that takes a word (i.e., a string) as input and returns its pig-Latin form. Your function should still work if the input word contains upper case characters. Your output should always be lower case however."
   ]
  },
  {
   "cell_type": "code",
   "execution_count": 9,
   "id": "d5988a4e",
   "metadata": {},
   "outputs": [
    {
     "name": "stdout",
     "output_type": "stream",
     "text": [
      "eltacorpsday\n"
     ]
    }
   ],
   "source": [
    "# Function to convert a word to Pig Latin\n",
    "def pig():\n",
    "    # Ask the user to input a word\n",
    "    word = input(\"Enter a word: \")\n",
    "    # Convert the word to lower case\n",
    "    word = word.lower()\n",
    "    # Check if the first letter is a vowel\n",
    "    if word[0] in 'aeiou':\n",
    "        # If it is, add 'way' to the end of the word\n",
    "        return word + 'way'\n",
    "    else:\n",
    "        # If it's not, move the first letter to the end and add 'ay'\n",
    "        return word[1:] + word[0] + 'ay'\n",
    "\n",
    "# Call the function and print the result\n",
    "print(pig())\n"
   ]
  },
  {
   "cell_type": "markdown",
   "id": "6f61fb36",
   "metadata": {},
   "source": [
    "# Question 7\n",
    "**File bloodtype1.txt records blood-types of patients (A, B, AB, O or OO) at a clinic. Write a function bldcount() that reads the file with name name and reports (i.e., prints) how many patients there are in each bloodtype."
   ]
  },
  {
   "cell_type": "code",
   "execution_count": 6,
   "id": "33a83810",
   "metadata": {},
   "outputs": [
    {
     "name": "stdout",
     "output_type": "stream",
     "text": [
      "There are 15 patients of blood type A.\n",
      "There is one patient of blood type B.\n",
      "There are 13 patients of blood type AB.\n",
      "There are 15 patients of blood type O.\n",
      "There are no patients of blood type OO.\n"
     ]
    }
   ],
   "source": [
    "def bldcount(name):\n",
    "    with open(name, 'r') as file:\n",
    "        blood_types = file.read().split()\n",
    "        for blood_type in ['A', 'B', 'AB', 'O', 'OO']:\n",
    "            count = blood_types.count(blood_type)\n",
    "            if count == 0:\n",
    "                print('There are no patients of blood type', blood_type + '.')\n",
    "            elif count == 1:\n",
    "                print('There is one patient of blood type', blood_type + '.')\n",
    "            else:\n",
    "                print('There are', count, 'patients of blood type', blood_type + '.')\n",
    "\n",
    "# Call the function with the file name\n",
    "bldcount('bloodtype1.txt')\n"
   ]
  },
  {
   "cell_type": "markdown",
   "id": "6fddd3eb",
   "metadata": {},
   "source": [
    "Write a function curconv() that takes as input:\n",
    "1. a currency represented using a string (e.g., 'JPY' for the Japanese Yen or 'EUR' for the Euro)\n",
    "2. an amount\n",
    "and then converts and returns the amount in US dollars."
   ]
  },
  {
   "cell_type": "code",
   "execution_count": 7,
   "id": "bc0624b4",
   "metadata": {},
   "outputs": [
    {
     "name": "stdout",
     "output_type": "stream",
     "text": [
      "1.241401\n"
     ]
    }
   ],
   "source": [
    "# Function to convert currency\n",
    "def curconv():\n",
    "    # Ask the user to input the currency code and the amount\n",
    "    currency = input(\"Enter the currency: \")\n",
    "    amount = float(input(\"Enter the amount: \"))\n",
    "    # Open the file that contains the exchange rates\n",
    "    with open('currencies.txt', 'r') as file:\n",
    "        # Read each line of the file\n",
    "        lines = file.readlines()\n",
    "        # Loop through each line\n",
    "        for line in lines:\n",
    "            # Split the line into two elements: currency code and exchange rate\n",
    "            elements = line.split()\n",
    "            cur = elements[0]\n",
    "            rate = elements[1]\n",
    "            # Check if the currency code matches the user input\n",
    "            if cur == currency:\n",
    "                # Return the converted amount by multiplying the amount and the exchange rate\n",
    "                return amount * float(rate)\n",
    "    # If the currency code is not found, return None\n",
    "    return None\n",
    "\n",
    "# Call the function and print the result\n",
    "print(curconv())\n"
   ]
  },
  {
   "cell_type": "markdown",
   "id": "cc6a02dd",
   "metadata": {},
   "source": [
    "# Question 8"
   ]
  },
  {
   "cell_type": "markdown",
   "id": "13a34d11",
   "metadata": {},
   "source": [
    "Each of the following will cause an exception (an error). Identify what type of exception each will cause."
   ]
  },
  {
   "cell_type": "markdown",
   "id": "10aecf1c",
   "metadata": {},
   "source": [
    "**Trying to add incompatible variables, as in adding 6 + ‘a’"
   ]
  },
  {
   "cell_type": "markdown",
   "id": "8bf83d59",
   "metadata": {},
   "source": [
    "*This will cause a TypeError. Python cannot perform an operation between a string and an integer."
   ]
  },
  {
   "cell_type": "markdown",
   "id": "f595fcd7",
   "metadata": {},
   "source": [
    "**Referring to the 12 th item of a list that has only 10 items"
   ]
  },
  {
   "cell_type": "markdown",
   "id": "356afa7c",
   "metadata": {},
   "source": [
    "*This will cause an IndexError. The index we are trying to access is out of the range of the list."
   ]
  },
  {
   "cell_type": "markdown",
   "id": "c8e67e01",
   "metadata": {},
   "source": [
    "**Using a value that is out of range for a functi on’s input, such as calling math.sqrt( 1.0)"
   ]
  },
  {
   "cell_type": "markdown",
   "id": "41e2aee7",
   "metadata": {},
   "source": [
    "*This will not cause an exception because 1.0 is within the valid input range for the math.sqrt() function. However, if you were to use a negative number as an argument, it would raise a ValueError because math.sqrt() does not support negative numbers."
   ]
  },
  {
   "cell_type": "markdown",
   "id": "633df1d9",
   "metadata": {},
   "source": [
    "**Using an undeclared variable, such as print(x) when x has not been defined."
   ]
  },
  {
   "cell_type": "markdown",
   "id": "72f15d47",
   "metadata": {},
   "source": [
    "*This will cause a NameError. Python raises this error when it encounters a variable that was referenced before it was assigned."
   ]
  },
  {
   "cell_type": "markdown",
   "id": "440e8aa3",
   "metadata": {},
   "source": [
    "**Trying to open a file that does not exist, such as mistyping the file name or looking in the wrong directory"
   ]
  },
  {
   "cell_type": "markdown",
   "id": "d3fec9a6",
   "metadata": {},
   "source": [
    "*This will cause a FileNotFoundError. Python raises this error when it cannot locate the file you’re trying to open."
   ]
  },
  {
   "cell_type": "markdown",
   "id": "f6423d25",
   "metadata": {},
   "source": [
    "# Question 10"
   ]
  },
  {
   "cell_type": "markdown",
   "id": "63dc6ad1",
   "metadata": {},
   "source": [
    "Encryption is the process of hiding the meaning of a text by substituting letters in the message with other letters, according to some system. If the process is successful, no one but the intended recipient can understand the encrypted message. Cryptanalysis refers to attempts to undo the encryption, even if some details of the encryption are unknown (for example, if an encrypted message has been intercepted). The first step of cryptanalysis is often to build up a table of letter frequencies in the encrypted text. Assume that the string letters is already defined as 'abcdefghijklmnopqrstuvwxyz'. \n",
    "\n",
    "Write a function called frequencies() that takes a string as its only parameter, and returns a list of integers, showing the number of times each character appears in the text. Your function may ignore any characters that are not in letters."
   ]
  },
  {
   "cell_type": "code",
   "execution_count": 4,
   "id": "a971197d",
   "metadata": {},
   "outputs": [
    {
     "name": "stdout",
     "output_type": "stream",
     "text": [
      "[1, 1, 1, 1, 3, 1, 1, 2, 1, 1, 1, 1, 1, 1, 4, 1, 1, 2, 1, 1, 2, 1, 1, 1, 1, 1]\n"
     ]
    }
   ],
   "source": [
    "def frequencies():\n",
    "    text = input(\"Please enter a string: \")\n",
    "    letters = 'abcdefghijklmnopqrstuvwxyz'\n",
    "    frequency_list = []\n",
    "    for letter in letters:\n",
    "        frequency_list.append(text.count(letter))\n",
    "    return frequency_list\n",
    "\n",
    "print(frequencies())\n"
   ]
  }
 ],
 "metadata": {
  "kernelspec": {
   "display_name": "Python 3 (ipykernel)",
   "language": "python",
   "name": "python3"
  },
  "language_info": {
   "codemirror_mode": {
    "name": "ipython",
    "version": 3
   },
   "file_extension": ".py",
   "mimetype": "text/x-python",
   "name": "python",
   "nbconvert_exporter": "python",
   "pygments_lexer": "ipython3",
   "version": "3.11.4"
  }
 },
 "nbformat": 4,
 "nbformat_minor": 5
}
